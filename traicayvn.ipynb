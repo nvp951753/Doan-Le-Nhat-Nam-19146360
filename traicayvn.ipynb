{
  "nbformat": 4,
  "nbformat_minor": 0,
  "metadata": {
    "colab": {
      "name": "traicayvn.ipynb",
      "provenance": [],
      "collapsed_sections": [],
      "mount_file_id": "1SVOLR5Ui-KNV30T5EjXHTJ0i9lu6r0vF",
      "authorship_tag": "ABX9TyPT6gXTR+6Oom5ErXAU49xT",
      "include_colab_link": true
    },
    "kernelspec": {
      "name": "python3",
      "display_name": "Python 3"
    },
    "language_info": {
      "name": "python"
    },
    "accelerator": "GPU"
  },
  "cells": [
    {
      "cell_type": "markdown",
      "metadata": {
        "id": "view-in-github",
        "colab_type": "text"
      },
      "source": [
        "<a href=\"https://colab.research.google.com/github/nvp951753/Doan-Le-Nhat-Nam-19146360/blob/main/traicayvn.ipynb\" target=\"_parent\"><img src=\"https://colab.research.google.com/assets/colab-badge.svg\" alt=\"Open In Colab\"/></a>"
      ]
    },
    {
      "cell_type": "code",
      "source": [
        "!unzip /content/drive/MyDrive/dataset/fruitdata.zip"
      ],
      "metadata": {
        "colab": {
          "base_uri": "https://localhost:8080/"
        },
        "id": "h6WzEW_vAEIz",
        "outputId": "ea2c466a-687f-41b6-f6f0-c8291302cb7a"
      },
      "execution_count": null,
      "outputs": [
        {
          "output_type": "stream",
          "name": "stdout",
          "text": [
            "Archive:  /content/drive/MyDrive/dataset/fruitdata.zip\n",
            "replace dttrain/01.jpg? [y]es, [n]o, [A]ll, [N]one, [r]ename: A\n",
            "  inflating: dttrain/01.jpg          \n",
            "  inflating: dttrain/010.jpg         \n",
            "  inflating: dttrain/011.jpg         \n",
            "  inflating: dttrain/012.jpg         \n",
            "  inflating: dttrain/013.jpg         \n",
            "  inflating: dttrain/014.jpg         \n",
            "  inflating: dttrain/015.jpg         \n",
            "  inflating: dttrain/016.jpg         \n",
            "  inflating: dttrain/017.jpg         \n",
            "  inflating: dttrain/018.jpg         \n",
            "  inflating: dttrain/019.jpg         \n",
            "  inflating: dttrain/02.jpg          \n",
            "  inflating: dttrain/020.jpg         \n",
            "  inflating: dttrain/021.jpg         \n",
            "  inflating: dttrain/022.jpg         \n",
            "  inflating: dttrain/023.jpg         \n",
            "  inflating: dttrain/024.jpg         \n",
            "  inflating: dttrain/025.jpg         \n",
            "  inflating: dttrain/026.jpg         \n",
            "  inflating: dttrain/03.jpg          \n",
            "  inflating: dttrain/04.jpg          \n",
            "  inflating: dttrain/05.jpg          \n",
            "  inflating: dttrain/06.jpg          \n",
            "  inflating: dttrain/07.jpg          \n",
            "  inflating: dttrain/08.jpg          \n",
            "  inflating: dttrain/09.jpg          \n",
            "  inflating: dttrain/11.jpg          \n",
            "  inflating: dttrain/110.jpg         \n",
            "  inflating: dttrain/111.jpg         \n",
            "  inflating: dttrain/112.jpg         \n",
            "  inflating: dttrain/113.jpg         \n",
            "  inflating: dttrain/114.jpg         \n",
            "  inflating: dttrain/115.jpg         \n",
            "  inflating: dttrain/116.jpg         \n",
            "  inflating: dttrain/117.jpg         \n",
            "  inflating: dttrain/118.jpg         \n",
            "  inflating: dttrain/119.jpg         \n",
            "  inflating: dttrain/12.jpg          \n",
            "  inflating: dttrain/120.jpg         \n",
            "  inflating: dttrain/121.jpg         \n",
            "  inflating: dttrain/122.jpg         \n",
            "  inflating: dttrain/123.jpg         \n",
            "  inflating: dttrain/124.jpg         \n",
            "  inflating: dttrain/125.jpg         \n",
            "  inflating: dttrain/126.jpg         \n",
            "  inflating: dttrain/127.jpg         \n",
            "  inflating: dttrain/128.jpg         \n",
            "  inflating: dttrain/129.jpg         \n",
            "  inflating: dttrain/13.jpg          \n",
            "  inflating: dttrain/130.jpg         \n",
            "  inflating: dttrain/131.jpg         \n",
            "  inflating: dttrain/132.jpg         \n",
            "  inflating: dttrain/133.jpg         \n",
            "  inflating: dttrain/134.jpg         \n",
            "  inflating: dttrain/135.jpg         \n",
            "  inflating: dttrain/136.jpg         \n",
            "  inflating: dttrain/137.jpg         \n",
            "  inflating: dttrain/138.jpg         \n",
            "  inflating: dttrain/14.jpg          \n",
            "  inflating: dttrain/15.jpg          \n",
            "  inflating: dttrain/16.jpg          \n",
            "  inflating: dttrain/17.jpg          \n",
            "  inflating: dttrain/18.jpg          \n",
            "  inflating: dttrain/19.jpg          \n",
            "  inflating: dttrain/21.jpg          \n",
            "  inflating: dttrain/210.jpg         \n",
            "  inflating: dttrain/211.jpg         \n",
            "  inflating: dttrain/212.jpg         \n",
            "  inflating: dttrain/213.jpg         \n",
            "  inflating: dttrain/214.jpg         \n",
            "  inflating: dttrain/215.jpg         \n",
            "  inflating: dttrain/216.jpg         \n",
            "  inflating: dttrain/217.jpg         \n",
            "  inflating: dttrain/218.jpg         \n",
            "  inflating: dttrain/219.jpg         \n",
            "  inflating: dttrain/22.jpg          \n",
            "  inflating: dttrain/220.jpg         \n",
            "  inflating: dttrain/221.jpg         \n",
            "  inflating: dttrain/222.jpg         \n",
            "  inflating: dttrain/223.jpg         \n",
            "  inflating: dttrain/224.jpg         \n",
            "  inflating: dttrain/225.jpg         \n",
            "  inflating: dttrain/226.jpg         \n",
            "  inflating: dttrain/227.jpg         \n",
            "  inflating: dttrain/228.jpg         \n",
            "  inflating: dttrain/229.jpg         \n",
            "  inflating: dttrain/23.jpg          \n",
            "  inflating: dttrain/24.jpg          \n",
            "  inflating: dttrain/25.jpg          \n",
            "  inflating: dttrain/26.jpg          \n",
            "  inflating: dttrain/27.jpg          \n",
            "  inflating: dttrain/28.jpg          \n",
            "  inflating: dttrain/29.jpg          \n",
            "  inflating: dttrain/31.jpg          \n",
            "  inflating: dttrain/310.jpg         \n",
            "  inflating: dttrain/311.jpg         \n",
            "  inflating: dttrain/312.jpg         \n",
            "  inflating: dttrain/313.jpg         \n",
            "  inflating: dttrain/314.jpg         \n",
            "  inflating: dttrain/315.jpg         \n",
            "  inflating: dttrain/316.jpg         \n",
            "  inflating: dttrain/317.jpg         \n",
            "  inflating: dttrain/318.jpg         \n",
            "  inflating: dttrain/319.jpg         \n",
            "  inflating: dttrain/32.jpg          \n",
            "  inflating: dttrain/320.jpg         \n",
            "  inflating: dttrain/321.jpg         \n",
            "  inflating: dttrain/322.jpg         \n",
            "  inflating: dttrain/323.jpg         \n",
            "  inflating: dttrain/324.jpg         \n",
            "  inflating: dttrain/325.jpg         \n",
            "  inflating: dttrain/326.jpg         \n",
            "  inflating: dttrain/327.jpg         \n",
            "  inflating: dttrain/328.jpg         \n",
            "  inflating: dttrain/329.jpg         \n",
            "  inflating: dttrain/33.jpg          \n",
            "  inflating: dttrain/330.jpg         \n",
            "  inflating: dttrain/331.jpg         \n",
            "  inflating: dttrain/332.jpg         \n",
            "  inflating: dttrain/333.jpg         \n",
            "  inflating: dttrain/334.jpg         \n",
            "  inflating: dttrain/34.jpg          \n",
            "  inflating: dttrain/35.jpg          \n",
            "  inflating: dttrain/36.jpg          \n",
            "  inflating: dttrain/37.jpg          \n",
            "  inflating: dttrain/38.jpg          \n",
            "  inflating: dttrain/39.jpg          \n",
            "  inflating: dttrain/41.jpg          \n",
            "  inflating: dttrain/410.jpg         \n",
            "  inflating: dttrain/411.jpg         \n",
            "  inflating: dttrain/412.jpg         \n",
            "  inflating: dttrain/413.jpg         \n",
            "  inflating: dttrain/414.jpg         \n",
            "  inflating: dttrain/415.jpg         \n",
            "  inflating: dttrain/416.jpg         \n",
            "  inflating: dttrain/417.jpg         \n",
            "  inflating: dttrain/418.jpg         \n",
            "  inflating: dttrain/419.jpg         \n",
            "  inflating: dttrain/42.jpg          \n",
            "  inflating: dttrain/420.jpg         \n",
            "  inflating: dttrain/421.jpg         \n",
            "  inflating: dttrain/422.jpg         \n",
            "  inflating: dttrain/423.jpg         \n",
            "  inflating: dttrain/424.jpg         \n",
            "  inflating: dttrain/425.jpg         \n",
            "  inflating: dttrain/426.jpg         \n",
            "  inflating: dttrain/427.jpg         \n",
            "  inflating: dttrain/428.jpg         \n",
            "  inflating: dttrain/429.jpg         \n",
            "  inflating: dttrain/43.jpg          \n",
            "  inflating: dttrain/430.jpg         \n",
            "  inflating: dttrain/431.jpg         \n",
            "  inflating: dttrain/432.jpg         \n",
            "  inflating: dttrain/433.jpg         \n",
            "  inflating: dttrain/434.jpg         \n",
            "  inflating: dttrain/435.jpg         \n",
            "  inflating: dttrain/44.jpg          \n",
            "  inflating: dttrain/45.jpg          \n",
            "  inflating: dttrain/46.jpg          \n",
            "  inflating: dttrain/47.jpg          \n",
            "  inflating: dttrain/48.jpg          \n",
            "  inflating: dttrain/49.jpg          \n",
            "  inflating: dttrain/51.jpg          \n",
            "  inflating: dttrain/510.jpg         \n",
            "  inflating: dttrain/511.jpg         \n",
            "  inflating: dttrain/512.jpg         \n",
            "  inflating: dttrain/513.jpg         \n",
            "  inflating: dttrain/514.jpg         \n",
            "  inflating: dttrain/515.jpg         \n",
            "  inflating: dttrain/516.jpg         \n",
            "  inflating: dttrain/517.jpg         \n",
            "  inflating: dttrain/518.jpg         \n",
            "  inflating: dttrain/519.jpg         \n",
            "  inflating: dttrain/52.jpg          \n",
            "  inflating: dttrain/520.jpg         \n",
            "  inflating: dttrain/521.jpg         \n",
            "  inflating: dttrain/522.jpg         \n",
            "  inflating: dttrain/53.jpg          \n",
            "  inflating: dttrain/54.jpg          \n",
            "  inflating: dttrain/55.jpg          \n",
            "  inflating: dttrain/56.jpg          \n",
            "  inflating: dttrain/57.jpg          \n",
            "  inflating: dttrain/58.jpg          \n",
            "  inflating: dttrain/59.jpg          \n",
            "  inflating: dttrain/61.jpg          \n",
            "  inflating: dttrain/610.jpg         \n",
            "  inflating: dttrain/611.jpg         \n",
            "  inflating: dttrain/612.jpg         \n",
            "  inflating: dttrain/613.jpg         \n",
            "  inflating: dttrain/614.jpg         \n",
            "  inflating: dttrain/615.jpg         \n",
            "  inflating: dttrain/616.jpg         \n",
            "  inflating: dttrain/617.jpg         \n",
            "  inflating: dttrain/618.jpg         \n",
            "  inflating: dttrain/619.jpg         \n",
            "  inflating: dttrain/62.jpg          \n",
            "  inflating: dttrain/620.jpg         \n",
            "  inflating: dttrain/621.jpg         \n",
            "  inflating: dttrain/622.jpg         \n",
            "  inflating: dttrain/623.jpg         \n",
            "  inflating: dttrain/624.jpg         \n",
            "  inflating: dttrain/625.jpg         \n",
            "  inflating: dttrain/626.jpg         \n",
            "  inflating: dttrain/627.jpg         \n",
            "  inflating: dttrain/63.jpg          \n",
            "  inflating: dttrain/64.jpg          \n",
            "  inflating: dttrain/65.jpg          \n",
            "  inflating: dttrain/66.jpg          \n",
            "  inflating: dttrain/67.jpg          \n",
            "  inflating: dttrain/68.jpg          \n",
            "  inflating: dttrain/69.jpg          \n",
            "  inflating: dttrain/71.jpg          \n",
            "  inflating: dttrain/710.jpg         \n",
            "  inflating: dttrain/711.jpg         \n",
            "  inflating: dttrain/712.jpg         \n",
            "  inflating: dttrain/713.jpg         \n",
            "  inflating: dttrain/714.jpg         \n",
            "  inflating: dttrain/715.jpg         \n",
            "  inflating: dttrain/716.jpg         \n",
            "  inflating: dttrain/717.jpg         \n",
            "  inflating: dttrain/718.jpg         \n",
            "  inflating: dttrain/719.jpg         \n",
            "  inflating: dttrain/72.jpg          \n",
            "  inflating: dttrain/720.jpg         \n",
            "  inflating: dttrain/721.jpg         \n",
            "  inflating: dttrain/722.jpg         \n",
            "  inflating: dttrain/723.jpg         \n",
            "  inflating: dttrain/724.jpg         \n",
            "  inflating: dttrain/725.jpg         \n",
            "  inflating: dttrain/726.jpg         \n",
            "  inflating: dttrain/727.jpg         \n",
            "  inflating: dttrain/728.jpg         \n",
            "  inflating: dttrain/729.jpg         \n",
            "  inflating: dttrain/73.jpg          \n",
            "  inflating: dttrain/730.jpg         \n",
            "  inflating: dttrain/731.jpg         \n",
            "  inflating: dttrain/732.jpg         \n",
            "  inflating: dttrain/733.jpg         \n",
            "  inflating: dttrain/74.jpg          \n",
            "  inflating: dttrain/75.jpg          \n",
            "  inflating: dttrain/76.jpg          \n",
            "  inflating: dttrain/77.jpg          \n",
            "  inflating: dttrain/78.jpg          \n",
            "  inflating: dttrain/79.jpg          \n",
            "  inflating: dttrain/81.jpg          \n",
            "  inflating: dttrain/810.jpg         \n",
            "  inflating: dttrain/811.jpg         \n",
            "  inflating: dttrain/812.jpg         \n",
            "  inflating: dttrain/813.jpg         \n",
            "  inflating: dttrain/814.jpg         \n",
            "  inflating: dttrain/815.jpg         \n",
            "  inflating: dttrain/816.jpg         \n",
            "  inflating: dttrain/817.jpg         \n",
            "  inflating: dttrain/818.jpg         \n",
            "  inflating: dttrain/819.jpg         \n",
            "  inflating: dttrain/82.jpg          \n",
            "  inflating: dttrain/820.jpg         \n",
            "  inflating: dttrain/821.jpg         \n",
            "  inflating: dttrain/822.jpg         \n",
            "  inflating: dttrain/823.jpg         \n",
            "  inflating: dttrain/824.jpg         \n",
            "  inflating: dttrain/825.jpg         \n",
            "  inflating: dttrain/826.jpg         \n",
            "  inflating: dttrain/827.jpg         \n",
            "  inflating: dttrain/828.jpg         \n",
            "  inflating: dttrain/829.jpg         \n",
            "  inflating: dttrain/83.jpg          \n",
            "  inflating: dttrain/830.jpg         \n",
            "  inflating: dttrain/831.jpg         \n",
            "  inflating: dttrain/832.jpg         \n",
            "  inflating: dttrain/833.jpg         \n",
            "  inflating: dttrain/834.jpg         \n",
            "  inflating: dttrain/835.jpg         \n",
            "  inflating: dttrain/836.jpg         \n",
            "  inflating: dttrain/837.jpg         \n",
            "  inflating: dttrain/838.jpg         \n",
            "  inflating: dttrain/839.jpg         \n",
            "  inflating: dttrain/84.jpg          \n",
            "  inflating: dttrain/840.jpg         \n",
            "  inflating: dttrain/841.jpg         \n",
            "  inflating: dttrain/842.jpg         \n",
            "  inflating: dttrain/843.jpg         \n",
            "  inflating: dttrain/844.jpg         \n",
            "  inflating: dttrain/845.jpg         \n",
            "  inflating: dttrain/846.jpg         \n",
            "  inflating: dttrain/85.jpg          \n",
            "  inflating: dttrain/86.jpg          \n",
            "  inflating: dttrain/87.jpg          \n",
            "  inflating: dttrain/88.jpg          \n",
            "  inflating: dttrain/89.jpg          \n",
            "  inflating: dttrain/91.jpg          \n",
            "  inflating: dttrain/910.jpg         \n",
            "  inflating: dttrain/911.jpg         \n",
            "  inflating: dttrain/912.jpg         \n",
            "  inflating: dttrain/913.jpg         \n",
            "  inflating: dttrain/914.jpg         \n",
            "  inflating: dttrain/915.jpg         \n",
            "  inflating: dttrain/916.jpg         \n",
            "  inflating: dttrain/917.jpg         \n",
            "  inflating: dttrain/918.jpg         \n",
            "  inflating: dttrain/919.jpg         \n",
            "  inflating: dttrain/92.jpg          \n",
            "  inflating: dttrain/920.jpg         \n",
            "  inflating: dttrain/921.jpg         \n",
            "  inflating: dttrain/922.jpg         \n",
            "  inflating: dttrain/923.jpg         \n",
            "  inflating: dttrain/924.jpg         \n",
            "  inflating: dttrain/925.jpg         \n",
            "  inflating: dttrain/926.jpg         \n",
            "  inflating: dttrain/927.jpg         \n",
            "  inflating: dttrain/928.jpg         \n",
            "  inflating: dttrain/929.jpg         \n",
            "  inflating: dttrain/93.jpg          \n",
            "  inflating: dttrain/930.jpg         \n",
            "  inflating: dttrain/931.jpg         \n",
            "  inflating: dttrain/94.jpg          \n",
            "  inflating: dttrain/95.jpg          \n",
            "  inflating: dttrain/96.jpg          \n",
            "  inflating: dttrain/97.jpg          \n",
            "  inflating: dttrain/98.jpg          \n",
            "  inflating: dttrain/99.jpg          \n"
          ]
        }
      ]
    },
    {
      "cell_type": "code",
      "source": [
        "import glob\n",
        "import cv2\n",
        "from tensorflow.keras.utils import to_categorical\n",
        "from tensorflow.keras.models import Sequential\n",
        "from tensorflow.keras.layers import Dense, Flatten, Conv2D, MaxPooling2D\n",
        "from tensorflow.keras.losses import sparse_categorical_crossentropy\n",
        "from tensorflow.keras.optimizers import Adam\n",
        "import pandas as pd\n",
        "import numpy as np\n",
        "import matplotlib.pyplot as plt\n",
        "import tensorflow.keras.utils as u"
      ],
      "metadata": {
        "id": "WuCO46Y9AVOk"
      },
      "execution_count": null,
      "outputs": []
    },
    {
      "cell_type": "code",
      "source": [
        "type(filenames[0])"
      ],
      "metadata": {
        "colab": {
          "base_uri": "https://localhost:8080/"
        },
        "id": "hVQPtn5-A-pC",
        "outputId": "cb110213-0960-4a9c-a46b-3787ac760d9c"
      },
      "execution_count": null,
      "outputs": [
        {
          "output_type": "execute_result",
          "data": {
            "text/plain": [
              "str"
            ]
          },
          "metadata": {},
          "execution_count": 8
        }
      ]
    },
    {
      "cell_type": "code",
      "source": [
        "filenames = [img for img in glob.glob(\"dttrain/*.jpg\")]\n",
        "x_train = []\n",
        "y_train = []\n",
        "for img in filenames:\n",
        "  n = cv2.imread(img)\n",
        "  a=img.split('/',1)\n",
        "  a=a[1]\n",
        "  ten = int(a[0])\n",
        "  x_train.append(n)\n",
        "  y_train.append(ten)\n",
        "\n",
        "x_train= np.array(x_train).astype('float32')\n",
        "x_train/=255\n",
        "y_train=to_categorical(y_train)\n",
        "y_train= np.array(y_train).astype('float32')\n"
      ],
      "metadata": {
        "id": "GS0PMGB7AkLz"
      },
      "execution_count": null,
      "outputs": []
    },
    {
      "cell_type": "code",
      "source": [
        "x_train[0].shape"
      ],
      "metadata": {
        "colab": {
          "base_uri": "https://localhost:8080/"
        },
        "id": "6nbSH7b1CUSZ",
        "outputId": "968d5d1b-b90d-486f-d90f-965b2336e7c4"
      },
      "execution_count": null,
      "outputs": [
        {
          "output_type": "execute_result",
          "data": {
            "text/plain": [
              "(100, 100, 3)"
            ]
          },
          "metadata": {},
          "execution_count": 5
        }
      ]
    },
    {
      "cell_type": "code",
      "source": [
        "model = Sequential()\n",
        "model.add(Conv2D(100,(3,3),activation ='relu',kernel_initializer = 'he_uniform',padding = 'same',input_shape=(100,100,3)))\n",
        "model.add(MaxPooling2D(pool_size=(2, 2)))\n",
        "model.add(Conv2D(200,(3,3),activation ='relu',kernel_initializer = 'he_uniform',padding = 'same'))\n",
        "\n",
        "model.add(MaxPooling2D(pool_size=(2, 2)))\n",
        "model.add(Flatten())\n",
        "model.add(Dense(256, activation='relu',kernel_initializer = 'he_uniform'))\n",
        "model.add(Dense(10, activation='softmax'))\n",
        "model.summary()\n",
        "opt = Adam()\n",
        "model.compile(optimizer=opt,loss='categorical_crossentropy',metrics=['accuracy'])\n",
        "history = model.fit(x_train,y_train,epochs=20,batch_size=32,verbose=1,validation_split=0.1)"
      ],
      "metadata": {
        "colab": {
          "base_uri": "https://localhost:8080/"
        },
        "id": "2aND-63gDs1J",
        "outputId": "47f68dd7-b436-4924-9707-ce0495bc5cc5"
      },
      "execution_count": null,
      "outputs": [
        {
          "output_type": "stream",
          "name": "stdout",
          "text": [
            "Model: \"sequential_6\"\n",
            "_________________________________________________________________\n",
            " Layer (type)                Output Shape              Param #   \n",
            "=================================================================\n",
            " conv2d_12 (Conv2D)          (None, 100, 100, 100)     2800      \n",
            "                                                                 \n",
            " max_pooling2d_12 (MaxPoolin  (None, 50, 50, 100)      0         \n",
            " g2D)                                                            \n",
            "                                                                 \n",
            " conv2d_13 (Conv2D)          (None, 50, 50, 200)       180200    \n",
            "                                                                 \n",
            " max_pooling2d_13 (MaxPoolin  (None, 25, 25, 200)      0         \n",
            " g2D)                                                            \n",
            "                                                                 \n",
            " flatten_6 (Flatten)         (None, 125000)            0         \n",
            "                                                                 \n",
            " dense_12 (Dense)            (None, 256)               32000256  \n",
            "                                                                 \n",
            " dense_13 (Dense)            (None, 10)                2570      \n",
            "                                                                 \n",
            "=================================================================\n",
            "Total params: 32,185,826\n",
            "Trainable params: 32,185,826\n",
            "Non-trainable params: 0\n",
            "_________________________________________________________________\n",
            "Epoch 1/20\n",
            "9/9 [==============================] - 1s 64ms/step - loss: 22.1739 - accuracy: 0.1250 - val_loss: 2.3291 - val_accuracy: 0.0909\n",
            "Epoch 2/20\n",
            "9/9 [==============================] - 0s 42ms/step - loss: 1.8345 - accuracy: 0.3611 - val_loss: 2.0285 - val_accuracy: 0.3030\n",
            "Epoch 3/20\n",
            "9/9 [==============================] - 0s 42ms/step - loss: 1.3872 - accuracy: 0.5139 - val_loss: 1.9571 - val_accuracy: 0.3636\n",
            "Epoch 4/20\n",
            "9/9 [==============================] - 0s 42ms/step - loss: 0.9248 - accuracy: 0.6632 - val_loss: 1.7706 - val_accuracy: 0.5152\n",
            "Epoch 5/20\n",
            "9/9 [==============================] - 0s 41ms/step - loss: 0.4964 - accuracy: 0.8438 - val_loss: 2.2132 - val_accuracy: 0.3636\n",
            "Epoch 6/20\n",
            "9/9 [==============================] - 0s 42ms/step - loss: 0.3096 - accuracy: 0.9097 - val_loss: 2.4127 - val_accuracy: 0.5152\n",
            "Epoch 7/20\n",
            "9/9 [==============================] - 0s 42ms/step - loss: 0.1638 - accuracy: 0.9549 - val_loss: 2.2688 - val_accuracy: 0.4848\n",
            "Epoch 8/20\n",
            "9/9 [==============================] - 0s 42ms/step - loss: 0.1238 - accuracy: 0.9653 - val_loss: 2.5996 - val_accuracy: 0.4545\n",
            "Epoch 9/20\n",
            "9/9 [==============================] - 0s 42ms/step - loss: 0.0715 - accuracy: 0.9826 - val_loss: 2.8664 - val_accuracy: 0.4242\n",
            "Epoch 10/20\n",
            "9/9 [==============================] - 0s 42ms/step - loss: 0.0456 - accuracy: 0.9861 - val_loss: 2.8312 - val_accuracy: 0.4545\n",
            "Epoch 11/20\n",
            "9/9 [==============================] - 0s 42ms/step - loss: 0.0361 - accuracy: 0.9931 - val_loss: 3.2745 - val_accuracy: 0.4545\n",
            "Epoch 12/20\n",
            "9/9 [==============================] - 0s 42ms/step - loss: 0.0156 - accuracy: 1.0000 - val_loss: 3.1638 - val_accuracy: 0.4545\n",
            "Epoch 13/20\n",
            "9/9 [==============================] - 0s 42ms/step - loss: 0.0093 - accuracy: 1.0000 - val_loss: 3.1850 - val_accuracy: 0.4545\n",
            "Epoch 14/20\n",
            "9/9 [==============================] - 0s 42ms/step - loss: 0.0060 - accuracy: 1.0000 - val_loss: 3.2868 - val_accuracy: 0.4545\n",
            "Epoch 15/20\n",
            "9/9 [==============================] - 0s 43ms/step - loss: 0.0025 - accuracy: 1.0000 - val_loss: 3.3952 - val_accuracy: 0.4545\n",
            "Epoch 16/20\n",
            "9/9 [==============================] - 0s 42ms/step - loss: 0.0013 - accuracy: 1.0000 - val_loss: 3.4009 - val_accuracy: 0.4545\n",
            "Epoch 17/20\n",
            "9/9 [==============================] - 0s 42ms/step - loss: 7.7499e-04 - accuracy: 1.0000 - val_loss: 3.4159 - val_accuracy: 0.3939\n",
            "Epoch 18/20\n",
            "9/9 [==============================] - 0s 42ms/step - loss: 6.1477e-04 - accuracy: 1.0000 - val_loss: 3.4221 - val_accuracy: 0.3939\n",
            "Epoch 19/20\n",
            "9/9 [==============================] - 0s 42ms/step - loss: 5.0704e-04 - accuracy: 1.0000 - val_loss: 3.4785 - val_accuracy: 0.3939\n",
            "Epoch 20/20\n",
            "9/9 [==============================] - 0s 42ms/step - loss: 4.3438e-04 - accuracy: 1.0000 - val_loss: 3.5069 - val_accuracy: 0.4242\n"
          ]
        }
      ]
    },
    {
      "cell_type": "code",
      "source": [
        "plt.plot(history.history['val_loss'])\n",
        "plt.title('Validation loss history')\n",
        "plt.ylabel('Loss value')\n",
        "plt.xlabel('No. epoch')\n",
        "plt.show()\n",
        "\n",
        "# Plot history: Accuracy\n",
        "plt.plot(history.history['val_accuracy'])\n",
        "plt.title('Validation accuracy history')\n",
        "plt.ylabel('Accuracy value (%)')\n",
        "plt.xlabel('No. epoch')\n",
        "plt.show()"
      ],
      "metadata": {
        "colab": {
          "base_uri": "https://localhost:8080/",
          "height": 573
        },
        "id": "IVgfInNvQlNy",
        "outputId": "0ba66fad-dd01-4b23-c8fa-940c8a6b7f6b"
      },
      "execution_count": null,
      "outputs": [
        {
          "output_type": "display_data",
          "data": {
            "text/plain": [
              "<Figure size 432x288 with 1 Axes>"
            ],
            "image/png": "[encoded data removed]"
          },
          "metadata": {
            "needs_background": "light"
          }
        },
        {
          "output_type": "display_data",
          "data": {
            "text/plain": [
              "<Figure size 432x288 with 1 Axes>"
            ],
            "image/png": "[encoded data removed]"
          },
          "metadata": {
            "needs_background": "light"
          }
        }
      ]
    },
    {
      "cell_type": "code",
      "source": [
        "def make_square(img):\n",
        "    '''\n",
        "    Reshapes the non-square image by pasting\n",
        "    it to the centre of a black canvas of size\n",
        "    n*n where n is the biggest dimension of\n",
        "    the non-square image. \n",
        "    '''\n",
        "    #Getting the bigger side of the image\n",
        "    s = max(img.shape[0:2])\n",
        "\n",
        "    #Creating a dark square with NUMPY  \n",
        "    f = np.zeros((s,s,3),np.uint8)\n",
        "\n",
        "    #Getting the centering position\n",
        "    ax,ay = (s - img.shape[1])//2,(s - img.shape[0])//2\n",
        "\n",
        "    #Pasting the 'image' in a centering position\n",
        "    f[ay:img.shape[0]+ay,ax:ax+img.shape[1]] = img\n",
        "    return f\n",
        "thuvien = ['coconuts','grapes','limes','mangos','oranges','passionfruit', 'peaches', 'pineapples','tomatoes','watermelons']\n",
        "tenfile = 'chanh.jpg'\n",
        "pre = u.load_img(tenfile)\n",
        "\n",
        "\n",
        "pre= np.array(pre)\n",
        "pre = make_square(pre)\n",
        "pre = cv2.resize(pre, dsize=(100, 100), interpolation=cv2.INTER_CUBIC)\n",
        "show=pre\n",
        "pre= np.array(pre).astype('float32')\n",
        "pre/=255\n",
        "pre = pre.reshape(-1,100,100,3)\n",
        "er=np.argmax(model.predict(pre))\n",
        "print('dự đoán là: ' + thuvien[er])\n",
        "plt.imshow(show,cmap=plt.get_cmap('gray'))\n",
        "plt.show()"
      ],
      "metadata": {
        "colab": {
          "base_uri": "https://localhost:8080/",
          "height": 285
        },
        "id": "k9NtjiU1Gi5n",
        "outputId": "c8651984-35e9-403c-fbf4-41dc6e0b9396"
      },
      "execution_count": null,
      "outputs": [
        {
          "output_type": "stream",
          "name": "stdout",
          "text": [
            "dự đoán là: watermelons\n"
          ]
        },
        {
          "output_type": "display_data",
          "data": {
            "text/plain": [
              "<Figure size 432x288 with 1 Axes>"
            ],
            "image/png": "[encoded data removed]"
          },
          "metadata": {
            "needs_background": "light"
          }
        }
      ]
    }
  ]
}